{
 "cells": [
  {
   "cell_type": "markdown",
   "id": "321636a0",
   "metadata": {},
   "source": [
    "# Data Science Tools and Ecosystem"
   ]
  },
  {
   "cell_type": "markdown",
   "id": "dec53034",
   "metadata": {},
   "source": [
    "In this notebook, Data Science Tools and Ecosystem are summarized.\n"
   ]
  },
  {
   "cell_type": "markdown",
   "id": "23d2be7d",
   "metadata": {},
   "source": [
    "Some of the popular languages that Data Scientists use are:\n",
    "\n",
    "1. Python\n",
    "\n",
    "\n",
    "2. R\n",
    "\n",
    "\n",
    "3. Julia"
   ]
  },
  {
   "cell_type": "markdown",
   "id": "2cf1399d",
   "metadata": {},
   "source": [
    "Some of the commonly used libraries used by Data Scientists include:\n",
    "\n",
    "1. Numpy\n",
    "\n",
    "\n",
    "2. Pandas\n",
    "\n",
    "\n",
    "3. Scikit-learn\n",
    "\n",
    "\n",
    "4. Tensorflow\n",
    "\n",
    "\n",
    "5. Keras"
   ]
  },
  {
   "cell_type": "markdown",
   "id": "e239c1b8",
   "metadata": {},
   "source": [
    "\n",
    "| Data Science Tools | \n",
    "| :- | \n",
    "| jupyter-notebook | \n",
    "| vscode | \n",
    "| pycharm \n",
    "\n",
    "\n"
   ]
  },
  {
   "cell_type": "markdown",
   "id": "9b977566",
   "metadata": {},
   "source": [
    "### Below are a few examples of evaluating arithmetic expressions in Python.\n",
    "    "
   ]
  },
  {
   "cell_type": "code",
   "execution_count": 3,
   "id": "fd36de4e",
   "metadata": {},
   "outputs": [
    {
     "data": {
      "text/plain": [
       "17"
      ]
     },
     "execution_count": 3,
     "metadata": {},
     "output_type": "execute_result"
    }
   ],
   "source": [
    "# This a simple arithmetic expression to mutiply then add integers\n",
    "(3*4)+5"
   ]
  },
  {
   "cell_type": "code",
   "execution_count": 5,
   "id": "e6a7b414",
   "metadata": {},
   "outputs": [
    {
     "data": {
      "text/plain": [
       "3.3333333333333335"
      ]
     },
     "execution_count": 5,
     "metadata": {},
     "output_type": "execute_result"
    }
   ],
   "source": [
    "# This will convert 200 minutes to hours by diving by 60\n",
    "min2hr = 1/60\n",
    "\n",
    "min200hr = 200 * min2hr\n",
    "\n",
    "min200hr"
   ]
  },
  {
   "cell_type": "markdown",
   "id": "d8bdc122",
   "metadata": {},
   "source": [
    "## Author\n",
    "\n",
    "Rituparna Datta"
   ]
  },
  {
   "cell_type": "code",
   "execution_count": null,
   "id": "9b669e9f",
   "metadata": {},
   "outputs": [],
   "source": []
  }
 ],
 "metadata": {
  "kernelspec": {
   "display_name": "Python 3",
   "language": "python",
   "name": "python3"
  },
  "language_info": {
   "codemirror_mode": {
    "name": "ipython",
    "version": 3
   },
   "file_extension": ".py",
   "mimetype": "text/x-python",
   "name": "python",
   "nbconvert_exporter": "python",
   "pygments_lexer": "ipython3",
   "version": "3.8.8"
  }
 },
 "nbformat": 4,
 "nbformat_minor": 5
}
